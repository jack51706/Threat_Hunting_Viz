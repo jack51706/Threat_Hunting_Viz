{
  "cells": [
    {
      "cell_type": "markdown",
      "source": [
        "## Table of Contents\n",
        "\n",
        "### Introductions\n",
        "\n",
        "#### Instructors:\n",
        "    - Joseph Joseph.TenEyck@Target.com\n",
        "    - Fred  John.Fredrickson@Target.com\n",
        "    \n",
        "### Technology Whirlwind\n",
        "\n",
        "    - Plotly graphing library\n",
        "\n",
        "### Development environments\n",
        "\n",
        "    - Python( 2 or 3 your choice)\n",
        "    - Jupyter Kernel\n",
        "        - Nteract\n",
        "        - Hydrogen\n",
        "    \n",
        "### Python Libraries\n",
        "    \n",
        "    - Pandas\n",
        "    - Plotly\n",
        "    \n",
        "### Outputs\n",
        "\n",
        "    - Graphs: offline vs online\n",
        "    - Dashboards\n",
        "        - Embedding\n",
        "        - Websites\n",
        "    - Presentations\n",
        "    - Notebooks\n"
      ],
      "metadata": {}
    },
    {
      "cell_type": "markdown",
      "source": [
        "## Pandas\n",
        "[Pandas Documentation](http://pandas.pydata.org/pandas-docs/stable/)\n",
        "\n",
        "> pandas is a Python package providing fast, flexible, and expressive data structures designed to make working with “relational” or “labeled” data both easy and intuitive. It aims to be the fundamental high-level building block for doing practical, real world data analysis in Python.\n",
        "\n",
        "Get pandas by \" `pip install pandas` \"\n",
        "\n",
        "Add to program thru standard \" `import pandas as pd` \"\n",
        "\n\n\n"
      ],
      "metadata": {}
    },
    {
      "cell_type": "code",
      "source": [
        "import pandas as pd\n",
        "\n",
        "pd.__version__ # Retrieve the pandas version\n",
        "\npd.show_versions() # Show all releevant python and os related information"
      ],
      "outputs": [
        {
          "output_type": "stream",
          "name": "stdout",
          "text": [
            "\n",
            "INSTALLED VERSIONS\n",
            "------------------\n",
            "commit: None\n",
            "python: 3.6.0.final.0\n",
            "python-bits: 64\n",
            "OS: Darwin\n",
            "OS-release: 16.5.0\n",
            "machine: x86_64\n",
            "processor: i386\n",
            "byteorder: little\n",
            "LC_ALL: None\n",
            "LANG: None\n",
            "LOCALE: None.None\n",
            "\n",
            "pandas: 0.20.1\n",
            "pytest: None\n",
            "pip: 9.0.1\n",
            "setuptools: 32.2.0\n",
            "Cython: None\n",
            "numpy: 1.12.1\n",
            "scipy: None\n",
            "xarray: None\n",
            "IPython: 5.2.1\n",
            "sphinx: None\n",
            "patsy: None\n",
            "dateutil: 2.6.0\n",
            "pytz: 2017.2\n",
            "blosc: None\n",
            "bottleneck: None\n",
            "tables: None\n",
            "numexpr: None\n",
            "feather: None\n",
            "matplotlib: None\n",
            "openpyxl: None\n",
            "xlrd: None\n",
            "xlwt: None\n",
            "xlsxwriter: None\n",
            "lxml: None\n",
            "bs4: None\n",
            "html5lib: 0.9999999\n",
            "sqlalchemy: None\n",
            "pymysql: None\n",
            "psycopg2: None\n",
            "jinja2: 2.9.5\n",
            "s3fs: None\n",
            "pandas_gbq: None\n",
            "pandas_datareader: None\n"
          ]
        }
      ],
      "execution_count": 5,
      "metadata": {
        "collapsed": false,
        "outputHidden": false,
        "inputHidden": false
      }
    },
    {
      "cell_type": "markdown",
      "source": [
        "## Adding Data to Pandas\n",
        "\n",
        "pandas support a variety of read and write formats.\n",
        "\n"
      ],
      "metadata": {}
    },
    {
      "cell_type": "code",
      "source": [
        "formats_df = pd.read_csv('pandas_read_formats.csv')\n",
        "print(formats_df)"
      ],
      "outputs": [
        {
          "output_type": "stream",
          "name": "stdout",
          "text": [
            "   Format Type      Data Description          Reader        Writer\n",
            "0         text                   CSV        read_csv        to_csv\n",
            "1         text                  JSON       read_json       to_json\n",
            "2         text                  HTML       read_html       to_html\n",
            "3         text       Local clipboard  read_clipboard  to_clipboard\n",
            "4       binary              MS Excel      read_excel      to_excel\n",
            "5       binary           HDF5 Format        read_hdf        to_hdf\n",
            "6       binary        Feather Format    read_feather    to_feather\n",
            "7       binary               Msgpack    read_msgpack    to_msgpack\n",
            "8       binary                 Stata      read_stata      to_stata\n",
            "9       binary                   SAS        read_sas           NaN\n",
            "10      binary  Python Pickle Format     read_pickle     to_pickle\n",
            "11         SQL                   SQL        read_sql        to_sql\n",
            "12         SQL      Google Big Query        read_gbq        to_gbq\n"
          ]
        }
      ],
      "execution_count": 7,
      "metadata": {
        "collapsed": false,
        "outputHidden": false,
        "inputHidden": false
      }
    },
    {
      "cell_type": "markdown",
      "source": [
        "For this class we will only use a couple.\n",
        "\n",
        "pandas can also read from a variety of locations for the purposes of this class we will cocentrate on local files and files from the web that are in a known format. In the code above \"` formats = pd.read_csv('pandas_read_formats.csv')`\" we are reading in the file \"pandas_read_formats.csv\" and assigning the returned values from the read to the variable `formats_df`.\n",
        "\nWe can just as easily read from the web"
      ],
      "metadata": {}
    },
    {
      "cell_type": "code",
      "source": [],
      "outputs": [],
      "execution_count": null,
      "metadata": {
        "collapsed": false,
        "outputHidden": false,
        "inputHidden": false
      }
    }
  ],
  "metadata": {
    "kernelspec": {
      "name": "python3",
      "language": "python",
      "display_name": "Python 3"
    },
    "kernel_info": {
      "name": "python3"
    },
    "language_info": {
      "name": "python",
      "version": "3.6.0",
      "mimetype": "text/x-python",
      "codemirror_mode": {
        "name": "ipython",
        "version": 3
      },
      "pygments_lexer": "ipython3",
      "nbconvert_exporter": "python",
      "file_extension": ".py"
    }
  },
  "nbformat": 4,
  "nbformat_minor": 4
}