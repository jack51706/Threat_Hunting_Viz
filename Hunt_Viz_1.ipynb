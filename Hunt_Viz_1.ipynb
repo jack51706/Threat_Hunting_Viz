{
  "cells": [
    {
      "cell_type": "markdown",
      "source": [
        "## Table of Contents\n",
        "\n",
        "### Introductions\n",
        "\n",
        "#### Instructors:\n",
        "    - Joseph Joseph.TenEyck@Target.com\n",
        "    - Fred  John.Fredrickson@Target.com\n",
        "    \n",
        "### Development environments\n",
        "\n",
        "    - Python( 2 or 3 your choice)\n",
        "    - Jupyter Kernel\n",
        "        - Nteract\n",
        "        - Hydrogen\n",
        "    \n",
        "### Technology Whirlwind\n",
        "\n",
        "    - Pandas Dataframe\n",
        "    - Plotly graphing library\n",
        "\n",
        "    \n",
        "### Python Libraries\n",
        "    \n",
        "    - Pandas\n",
        "    - Plotly\n",
        "    \n",
        "### Outputs\n",
        "\n",
        "    - Graphs: offline vs online\n",
        "    - Dashboards\n",
        "        - Embedding\n",
        "        - Websites\n",
        "    - Presentations\n",
        "    - Notebooks\n"
      ],
      "metadata": {}
    },
    {
      "cell_type": "markdown",
      "source": [
        "## Pandas\n",
        "[Pandas Documentation](http://pandas.pydata.org/pandas-docs/stable/)\n",
        "\n",
        "> pandas is a Python package providing fast, flexible, and expressive data structures designed to make working with “relational” or “labeled” data both easy and intuitive. It aims to be the fundamental high-level building block for doing practical, real world data analysis in Python.\n",
        "\n",
        "Get pandas by \" `pip install pandas` \"\n",
        "\n",
        "Add to program thru standard \" `import pandas as pd` \"\n",
        "\n\n\n"
      ],
      "metadata": {}
    },
    {
      "cell_type": "code",
      "source": [
        "import pandas as pd\n",
        "\n",
        "pd.__version__ # Retrieve the pandas version\n",
        "\npd.show_versions() # Show all releevant python and os related information"
      ],
      "outputs": [
        {
          "output_type": "stream",
          "name": "stdout",
          "text": [
            "\n",
            "INSTALLED VERSIONS\n",
            "------------------\n",
            "commit: None\n",
            "python: 3.6.0.final.0\n",
            "python-bits: 64\n",
            "OS: Darwin\n",
            "OS-release: 16.5.0\n",
            "machine: x86_64\n",
            "processor: i386\n",
            "byteorder: little\n",
            "LC_ALL: None\n",
            "LANG: None\n",
            "LOCALE: None.None\n",
            "\n",
            "pandas: 0.20.1\n",
            "pytest: None\n",
            "pip: 9.0.1\n",
            "setuptools: 32.2.0\n",
            "Cython: None\n",
            "numpy: 1.12.1\n",
            "scipy: None\n",
            "xarray: None\n",
            "IPython: 5.2.1\n",
            "sphinx: None\n",
            "patsy: None\n",
            "dateutil: 2.6.0\n",
            "pytz: 2017.2\n",
            "blosc: None\n",
            "bottleneck: None\n",
            "tables: None\n",
            "numexpr: None\n",
            "feather: None\n",
            "matplotlib: None\n",
            "openpyxl: None\n",
            "xlrd: None\n",
            "xlwt: None\n",
            "xlsxwriter: None\n",
            "lxml: None\n",
            "bs4: None\n",
            "html5lib: 0.9999999\n",
            "sqlalchemy: None\n",
            "pymysql: None\n",
            "psycopg2: None\n",
            "jinja2: 2.9.5\n",
            "s3fs: None\n",
            "pandas_gbq: None\n",
            "pandas_datareader: None\n"
          ]
        }
      ],
      "execution_count": 27,
      "metadata": {
        "collapsed": false,
        "outputHidden": false,
        "inputHidden": false
      }
    },
    {
      "cell_type": "markdown",
      "source": [
        "## Adding Data to Pandas\n",
        "\n",
        "pandas support a variety of read and write formats.\n",
        "\n"
      ],
      "metadata": {}
    },
    {
      "cell_type": "code",
      "source": [
        "formats_df = pd.read_csv('pandas_read_formats.csv')\n",
        "print(formats_df)"
      ],
      "outputs": [
        {
          "output_type": "stream",
          "name": "stdout",
          "text": [
            "   Format Type      Data Description          Reader        Writer\n",
            "0         text                   CSV        read_csv        to_csv\n",
            "1         text                  JSON       read_json       to_json\n",
            "2         text                  HTML       read_html       to_html\n",
            "3         text       Local clipboard  read_clipboard  to_clipboard\n",
            "4       binary              MS Excel      read_excel      to_excel\n",
            "5       binary           HDF5 Format        read_hdf        to_hdf\n",
            "6       binary        Feather Format    read_feather    to_feather\n",
            "7       binary               Msgpack    read_msgpack    to_msgpack\n",
            "8       binary                 Stata      read_stata      to_stata\n",
            "9       binary                   SAS        read_sas           NaN\n",
            "10      binary  Python Pickle Format     read_pickle     to_pickle\n",
            "11         SQL                   SQL        read_sql        to_sql\n",
            "12         SQL      Google Big Query        read_gbq        to_gbq\n"
          ]
        }
      ],
      "execution_count": 28,
      "metadata": {
        "collapsed": false,
        "outputHidden": false,
        "inputHidden": false
      }
    },
    {
      "cell_type": "markdown",
      "source": [
        "For this class we will only use a couple.\n",
        "\n",
        "   pandas can also read from a variety of locations. For the purposes of this class we will cocentrate on local files and files from the web that are in a known format. \n",
        "\n",
        "   In the code above \"` formats = pd.read_csv('pandas_read_formats.csv')`\" we are reading in the file \"pandas_read_formats.csv\" and assigning the returned values from the read to the variable `formats_df`.\n",
        "\n   We can just as easily read from the web. I've stored the same file in my [GitHub repo for this workshop](https://github.com/teneyck/Threat_Hunting_Viz). We can use the same code to retrieve the file from there. By modifying the value passed to the `read_csv` method."
      ],
      "metadata": {}
    },
    {
      "cell_type": "code",
      "source": [
        "formats_df = pd.read_csv('https://raw.githubusercontent.com/teneyck/Threat_Hunting_Viz/master/pandas_read_formats.csv')\n",
        "print(formats_df)"
      ],
      "outputs": [
        {
          "output_type": "stream",
          "name": "stdout",
          "text": [
            "   Format Type      Data Description          Reader        Writer\n",
            "0         text                   CSV        read_csv        to_csv\n",
            "1         text                  JSON       read_json       to_json\n",
            "2         text                  HTML       read_html       to_html\n",
            "3         text       Local clipboard  read_clipboard  to_clipboard\n",
            "4       binary              MS Excel      read_excel      to_excel\n",
            "5       binary           HDF5 Format        read_hdf        to_hdf\n",
            "6       binary        Feather Format    read_feather    to_feather\n",
            "7       binary               Msgpack    read_msgpack    to_msgpack\n",
            "8       binary                 Stata      read_stata      to_stata\n",
            "9       binary                   SAS        read_sas           NaN\n",
            "10      binary  Python Pickle Format     read_pickle     to_pickle\n",
            "11         SQL                   SQL        read_sql        to_sql\n",
            "12         SQL      Google Big Query        read_gbq        to_gbq\n"
          ]
        }
      ],
      "execution_count": 29,
      "metadata": {
        "collapsed": false,
        "outputHidden": false,
        "inputHidden": false
      }
    },
    {
      "cell_type": "markdown",
      "source": [
        "In the same manner we can read from json, or any of the other fomats."
      ],
      "metadata": {}
    },
    {
      "cell_type": "code",
      "source": [
        "formats_json_df = pd.read_json('https://raw.githubusercontent.com/teneyck/Threat_Hunting_Viz/master/pandas_read_formats.json')\n",
        "print(formats_json_df) #TODO fix this."
      ],
      "outputs": [
        {
          "output_type": "stream",
          "name": "stdout",
          "text": [
            "        Data Description Format Type          Reader        Writer  index\n",
            "0                    CSV        text        read_csv        to_csv      0\n",
            "1                   JSON        text       read_json       to_json      1\n",
            "2                   HTML        text       read_html       to_html      2\n",
            "3        Local clipboard        text  read_clipboard  to_clipboard      3\n",
            "4               MS Excel      binary      read_excel      to_excel      4\n",
            "5            HDF5 Format      binary        read_hdf        to_hdf      5\n",
            "6         Feather Format      binary    read_feather    to_feather      6\n",
            "7                Msgpack      binary    read_msgpack    to_msgpack      7\n",
            "8                  Stata      binary      read_stata      to_stata      8\n",
            "9                    SAS      binary        read_sas          None      9\n",
            "10  Python Pickle Format      binary     read_pickle     to_pickle     10\n",
            "11                   SQL         SQL        read_sql        to_sql     11\n",
            "12      Google Big Query         SQL        read_gbq        to_gbq     12\n"
          ]
        }
      ],
      "execution_count": 30,
      "metadata": {
        "collapsed": false,
        "outputHidden": false,
        "inputHidden": false
      }
    },
    {
      "cell_type": "markdown",
      "source": [
        "## Data is in but now what\n",
        "\n",
        " Once we have the data we can now look at it and try to find meaningful corolaries. We can manipulate the data in ways simliar to any other spreadsheet or application.\n",
        " \n",
        " We can look at the index of the data frame."
      ],
      "metadata": {}
    },
    {
      "cell_type": "code",
      "source": [
        "print(formats_df.index)"
      ],
      "outputs": [
        {
          "output_type": "stream",
          "name": "stdout",
          "text": [
            "RangeIndex(start=0, stop=13, step=1)\n"
          ]
        }
      ],
      "execution_count": 31,
      "metadata": {
        "collapsed": false,
        "outputHidden": false,
        "inputHidden": false
      }
    },
    {
      "cell_type": "markdown",
      "source": [
        "We can look at the column names."
      ],
      "metadata": {}
    },
    {
      "cell_type": "code",
      "source": [
        "print(formats_json_df.columns)"
      ],
      "outputs": [
        {
          "output_type": "stream",
          "name": "stdout",
          "text": [
            "Index(['Data Description', 'Format Type', 'Reader', 'Writer', 'index'], dtype='object')\n"
          ]
        }
      ],
      "execution_count": 32,
      "metadata": {
        "collapsed": false,
        "outputHidden": false,
        "inputHidden": false
      }
    },
    {
      "cell_type": "markdown",
      "source": [
        "We can look at the values."
      ],
      "metadata": {}
    },
    {
      "cell_type": "code",
      "source": [
        "print(formats_df.values)"
      ],
      "outputs": [
        {
          "output_type": "stream",
          "name": "stdout",
          "text": [
            "[['text' 'CSV' 'read_csv' 'to_csv']\n",
            " ['text' 'JSON' 'read_json' 'to_json']\n",
            " ['text' 'HTML' 'read_html' 'to_html']\n",
            " ['text' 'Local clipboard' 'read_clipboard' 'to_clipboard']\n",
            " ['binary' 'MS Excel' 'read_excel' 'to_excel']\n",
            " ['binary' 'HDF5 Format' 'read_hdf' 'to_hdf']\n",
            " ['binary' 'Feather Format' 'read_feather' 'to_feather']\n",
            " ['binary' 'Msgpack' 'read_msgpack' 'to_msgpack']\n",
            " ['binary' 'Stata' 'read_stata' 'to_stata']\n",
            " ['binary' 'SAS' 'read_sas' nan]\n",
            " ['binary' 'Python Pickle Format' 'read_pickle' 'to_pickle']\n",
            " ['SQL' 'SQL' 'read_sql' 'to_sql']\n",
            " ['SQL' 'Google Big Query' 'read_gbq' 'to_gbq']]\n"
          ]
        }
      ],
      "execution_count": 33,
      "metadata": {
        "collapsed": false,
        "outputHidden": false,
        "inputHidden": false
      }
    },
    {
      "cell_type": "markdown",
      "source": [
        "We also can look at idividual lines using python slice notation."
      ],
      "metadata": {}
    },
    {
      "cell_type": "code",
      "source": [
        "formats_df[1:2]"
      ],
      "outputs": [
        {
          "output_type": "execute_result",
          "execution_count": 34,
          "data": {
            "text/plain": [
              "  Format Type Data Description     Reader   Writer\n",
              "1        text             JSON  read_json  to_json"
            ],
            "text/html": [
              "<div>\n",
              "<style>\n",
              "    .dataframe thead tr:only-child th {\n",
              "        text-align: right;\n",
              "    }\n",
              "\n",
              "    .dataframe thead th {\n",
              "        text-align: left;\n",
              "    }\n",
              "\n",
              "    .dataframe tbody tr th {\n",
              "        vertical-align: top;\n",
              "    }\n",
              "</style>\n",
              "<table border=\"1\" class=\"dataframe\">\n",
              "  <thead>\n",
              "    <tr style=\"text-align: right;\">\n",
              "      <th></th>\n",
              "      <th>Format Type</th>\n",
              "      <th>Data Description</th>\n",
              "      <th>Reader</th>\n",
              "      <th>Writer</th>\n",
              "    </tr>\n",
              "  </thead>\n",
              "  <tbody>\n",
              "    <tr>\n",
              "      <th>1</th>\n",
              "      <td>text</td>\n",
              "      <td>JSON</td>\n",
              "      <td>read_json</td>\n",
              "      <td>to_json</td>\n",
              "    </tr>\n",
              "  </tbody>\n",
              "</table>\n",
              "</div>"
            ]
          },
          "metadata": {}
        }
      ],
      "execution_count": 34,
      "metadata": {
        "collapsed": false,
        "outputHidden": false,
        "inputHidden": false
      }
    },
    {
      "cell_type": "markdown",
      "source": [
        "We can also extract a single cell."
      ],
      "metadata": {}
    },
    {
      "cell_type": "code",
      "source": [
        "formats_df.iloc[1]['Reader']"
      ],
      "outputs": [
        {
          "output_type": "execute_result",
          "execution_count": 35,
          "data": {
            "text/plain": [
              "'read_json'"
            ]
          },
          "metadata": {}
        }
      ],
      "execution_count": 35,
      "metadata": {
        "collapsed": false,
        "outputHidden": false,
        "inputHidden": false
      }
    },
    {
      "cell_type": "markdown",
      "source": [
        "We can also extract based on boolean operations."
      ],
      "metadata": {}
    },
    {
      "cell_type": "code",
      "source": [
        "formats_df.loc[formats_json_df['Format Type'] == 'text']"
      ],
      "outputs": [
        {
          "output_type": "execute_result",
          "execution_count": 36,
          "data": {
            "text/plain": [
              "  Format Type Data Description          Reader        Writer\n",
              "0        text              CSV        read_csv        to_csv\n",
              "1        text             JSON       read_json       to_json\n",
              "2        text             HTML       read_html       to_html\n",
              "3        text  Local clipboard  read_clipboard  to_clipboard"
            ],
            "text/html": [
              "<div>\n",
              "<style>\n",
              "    .dataframe thead tr:only-child th {\n",
              "        text-align: right;\n",
              "    }\n",
              "\n",
              "    .dataframe thead th {\n",
              "        text-align: left;\n",
              "    }\n",
              "\n",
              "    .dataframe tbody tr th {\n",
              "        vertical-align: top;\n",
              "    }\n",
              "</style>\n",
              "<table border=\"1\" class=\"dataframe\">\n",
              "  <thead>\n",
              "    <tr style=\"text-align: right;\">\n",
              "      <th></th>\n",
              "      <th>Format Type</th>\n",
              "      <th>Data Description</th>\n",
              "      <th>Reader</th>\n",
              "      <th>Writer</th>\n",
              "    </tr>\n",
              "  </thead>\n",
              "  <tbody>\n",
              "    <tr>\n",
              "      <th>0</th>\n",
              "      <td>text</td>\n",
              "      <td>CSV</td>\n",
              "      <td>read_csv</td>\n",
              "      <td>to_csv</td>\n",
              "    </tr>\n",
              "    <tr>\n",
              "      <th>1</th>\n",
              "      <td>text</td>\n",
              "      <td>JSON</td>\n",
              "      <td>read_json</td>\n",
              "      <td>to_json</td>\n",
              "    </tr>\n",
              "    <tr>\n",
              "      <th>2</th>\n",
              "      <td>text</td>\n",
              "      <td>HTML</td>\n",
              "      <td>read_html</td>\n",
              "      <td>to_html</td>\n",
              "    </tr>\n",
              "    <tr>\n",
              "      <th>3</th>\n",
              "      <td>text</td>\n",
              "      <td>Local clipboard</td>\n",
              "      <td>read_clipboard</td>\n",
              "      <td>to_clipboard</td>\n",
              "    </tr>\n",
              "  </tbody>\n",
              "</table>\n",
              "</div>"
            ]
          },
          "metadata": {}
        }
      ],
      "execution_count": 36,
      "metadata": {
        "collapsed": false,
        "outputHidden": false,
        "inputHidden": false
      }
    },
    {
      "cell_type": "markdown",
      "source": [
        "We can then take that output and assign it to a variable as in python."
      ],
      "metadata": {}
    },
    {
      "cell_type": "code",
      "source": [
        "var1 = formats_df.iloc[1]['Reader']\n",
        "print(type(var1))\n",
        "print(var1)"
      ],
      "outputs": [
        {
          "output_type": "stream",
          "name": "stdout",
          "text": [
            "<class 'str'>\n",
            "read_json\n"
          ]
        }
      ],
      "execution_count": 37,
      "metadata": {
        "collapsed": false,
        "outputHidden": false,
        "inputHidden": false
      }
    },
    {
      "cell_type": "markdown",
      "source": [
        "Part of the diffucluty with extracting data from a dataframe is knowing and predicting how the data will be output. SO for example when we extract the values  using the '`.values`' we may expect something different then we actually get, in a cell above we '`print(formats_df.values)`.' It the output may be mistaken for a list of lists."
      ],
      "metadata": {}
    },
    {
      "cell_type": "code",
      "source": [
        "var2 = formats_df.values\n",
        "print(var2)"
      ],
      "outputs": [
        {
          "output_type": "stream",
          "name": "stdout",
          "text": [
            "[['text' 'CSV' 'read_csv' 'to_csv']\n",
            " ['text' 'JSON' 'read_json' 'to_json']\n",
            " ['text' 'HTML' 'read_html' 'to_html']\n",
            " ['text' 'Local clipboard' 'read_clipboard' 'to_clipboard']\n",
            " ['binary' 'MS Excel' 'read_excel' 'to_excel']\n",
            " ['binary' 'HDF5 Format' 'read_hdf' 'to_hdf']\n",
            " ['binary' 'Feather Format' 'read_feather' 'to_feather']\n",
            " ['binary' 'Msgpack' 'read_msgpack' 'to_msgpack']\n",
            " ['binary' 'Stata' 'read_stata' 'to_stata']\n",
            " ['binary' 'SAS' 'read_sas' nan]\n",
            " ['binary' 'Python Pickle Format' 'read_pickle' 'to_pickle']\n",
            " ['SQL' 'SQL' 'read_sql' 'to_sql']\n",
            " ['SQL' 'Google Big Query' 'read_gbq' 'to_gbq']]\n"
          ]
        }
      ],
      "execution_count": 38,
      "metadata": {
        "collapsed": false,
        "outputHidden": false,
        "inputHidden": false
      }
    },
    {
      "cell_type": "markdown",
      "source": [
        "But if we type it we get something different."
      ],
      "metadata": {}
    },
    {
      "cell_type": "code",
      "source": [
        "type(var2)"
      ],
      "outputs": [
        {
          "output_type": "execute_result",
          "execution_count": 39,
          "data": {
            "text/plain": [
              "numpy.ndarray"
            ]
          },
          "metadata": {}
        }
      ],
      "execution_count": 39,
      "metadata": {
        "collapsed": false,
        "outputHidden": false,
        "inputHidden": false
      }
    },
    {
      "cell_type": "markdown",
      "source": [
        "What we end up with is a numpy ndarray, for our purposes it's enough to know this, but if you want more documentation can be found at [SciPY](https://docs.scipy.org/doc/numpy-1.12.0/reference/generated/numpy.ndarray.html)"
      ],
      "metadata": {}
    },
    {
      "cell_type": "markdown",
      "source": [
        "### Data Manipulation\n",
        "We can also take our dataframe and use it in the way we do conventional spreadsheets. For this portion of the notebook we will be using the data from [here.](https://raw.githubusercontent.com/plotly/datasets/master/gapminder_unfiltered.csv)"
      ],
      "metadata": {}
    },
    {
      "cell_type": "code",
      "source": [
        "gdp_df = pd.read_csv(\"gapminder_unfiltered.csv\")\n",
        "df.head()"
      ],
      "outputs": [
        {
          "output_type": "execute_result",
          "execution_count": 54,
          "data": {
            "text/plain": [
              "   Unnamed: 0      country continent  year  lifeExp       pop   gdpPercap\n",
              "0           0  Afghanistan      Asia  1952   28.801   8425333  779.445314\n",
              "1           1  Afghanistan      Asia  1957   30.332   9240934  820.853030\n",
              "2           2  Afghanistan      Asia  1962   31.997  10267083  853.100710\n",
              "3           3  Afghanistan      Asia  1967   34.020  11537966  836.197138\n",
              "4           4  Afghanistan      Asia  1972   36.088  13079460  739.981106"
            ],
            "text/html": [
              "<div>\n",
              "<style>\n",
              "    .dataframe thead tr:only-child th {\n",
              "        text-align: right;\n",
              "    }\n",
              "\n",
              "    .dataframe thead th {\n",
              "        text-align: left;\n",
              "    }\n",
              "\n",
              "    .dataframe tbody tr th {\n",
              "        vertical-align: top;\n",
              "    }\n",
              "</style>\n",
              "<table border=\"1\" class=\"dataframe\">\n",
              "  <thead>\n",
              "    <tr style=\"text-align: right;\">\n",
              "      <th></th>\n",
              "      <th>Unnamed: 0</th>\n",
              "      <th>country</th>\n",
              "      <th>continent</th>\n",
              "      <th>year</th>\n",
              "      <th>lifeExp</th>\n",
              "      <th>pop</th>\n",
              "      <th>gdpPercap</th>\n",
              "    </tr>\n",
              "  </thead>\n",
              "  <tbody>\n",
              "    <tr>\n",
              "      <th>0</th>\n",
              "      <td>0</td>\n",
              "      <td>Afghanistan</td>\n",
              "      <td>Asia</td>\n",
              "      <td>1952</td>\n",
              "      <td>28.801</td>\n",
              "      <td>8425333</td>\n",
              "      <td>779.445314</td>\n",
              "    </tr>\n",
              "    <tr>\n",
              "      <th>1</th>\n",
              "      <td>1</td>\n",
              "      <td>Afghanistan</td>\n",
              "      <td>Asia</td>\n",
              "      <td>1957</td>\n",
              "      <td>30.332</td>\n",
              "      <td>9240934</td>\n",
              "      <td>820.853030</td>\n",
              "    </tr>\n",
              "    <tr>\n",
              "      <th>2</th>\n",
              "      <td>2</td>\n",
              "      <td>Afghanistan</td>\n",
              "      <td>Asia</td>\n",
              "      <td>1962</td>\n",
              "      <td>31.997</td>\n",
              "      <td>10267083</td>\n",
              "      <td>853.100710</td>\n",
              "    </tr>\n",
              "    <tr>\n",
              "      <th>3</th>\n",
              "      <td>3</td>\n",
              "      <td>Afghanistan</td>\n",
              "      <td>Asia</td>\n",
              "      <td>1967</td>\n",
              "      <td>34.020</td>\n",
              "      <td>11537966</td>\n",
              "      <td>836.197138</td>\n",
              "    </tr>\n",
              "    <tr>\n",
              "      <th>4</th>\n",
              "      <td>4</td>\n",
              "      <td>Afghanistan</td>\n",
              "      <td>Asia</td>\n",
              "      <td>1972</td>\n",
              "      <td>36.088</td>\n",
              "      <td>13079460</td>\n",
              "      <td>739.981106</td>\n",
              "    </tr>\n",
              "  </tbody>\n",
              "</table>\n",
              "</div>"
            ]
          },
          "metadata": {}
        }
      ],
      "execution_count": 54,
      "metadata": {
        "collapsed": false,
        "outputHidden": false,
        "inputHidden": false
      }
    },
    {
      "cell_type": "markdown",
      "source": [
        "This data is a compilation of the available information about population and gross domestic product for a variety of countries. It is one of the first examples of data science for the masses and we will use it as an homage to that fact. First we will just get a count of years the data is available for and then get the earliest year."
      ],
      "metadata": {}
    },
    {
      "cell_type": "code",
      "source": [
        "len(gdp_df['year'].unique()) # Puts unique values into an array and then prints length of that array\n"
      ],
      "outputs": [
        {
          "output_type": "execute_result",
          "execution_count": 42,
          "data": {
            "text/plain": [
              "58"
            ]
          },
          "metadata": {}
        }
      ],
      "execution_count": 42,
      "metadata": {
        "collapsed": false,
        "outputHidden": false,
        "inputHidden": false
      }
    },
    {
      "cell_type": "code",
      "source": [
        "gdp_df.year.min() # note the switch in notation \".year\" == ['year']"
      ],
      "outputs": [
        {
          "output_type": "execute_result",
          "execution_count": 45,
          "data": {
            "text/plain": [
              "1950"
            ]
          },
          "metadata": {}
        }
      ],
      "execution_count": 45,
      "metadata": {
        "collapsed": false,
        "outputHidden": false,
        "inputHidden": false
      }
    },
    {
      "cell_type": "markdown",
      "source": [
        "#### Challenge\n",
        "\nFind the  last year referenced in the data and the number of countries referenced."
      ],
      "metadata": {}
    },
    {
      "cell_type": "code",
      "source": [],
      "outputs": [],
      "execution_count": 50,
      "metadata": {
        "collapsed": false,
        "outputHidden": false,
        "inputHidden": false
      }
    },
    {
      "cell_type": "markdown",
      "source": [
        "We can also perform more complex tranforms on the data. In the below example we are gonna take the data for "
      ],
      "metadata": {
        "collapsed": false,
        "outputHidden": false,
        "inputHidden": false
      }
    },
    {
      "cell_type": "code",
      "source": [],
      "outputs": [],
      "execution_count": null,
      "metadata": {
        "collapsed": false,
        "outputHidden": false,
        "inputHidden": false
      }
    }
  ],
  "metadata": {
    "kernelspec": {
      "name": "python3",
      "language": "python",
      "display_name": "Python 3"
    },
    "kernel_info": {
      "name": "python3"
    },
    "language_info": {
      "name": "python",
      "version": "3.6.0",
      "mimetype": "text/x-python",
      "codemirror_mode": {
        "name": "ipython",
        "version": 3
      },
      "pygments_lexer": "ipython3",
      "nbconvert_exporter": "python",
      "file_extension": ".py"
    }
  },
  "nbformat": 4,
  "nbformat_minor": 4
}