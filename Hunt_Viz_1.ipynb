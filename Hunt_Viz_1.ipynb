{
  "cells": [
    {
      "cell_type": "markdown",
      "source": [
        "## Table of Contents\n",
        "\n",
        "### Introductions\n",
        "\n",
        "#### Instructors:\n",
        "    - Joseph Joseph.TenEyck@Target.com\n",
        "    - Fred  John.Fredrickson@Target.com\n",
        "    \n",
        "### Development environments\n",
        "\n",
        "    - Python( 2 or 3 your choice)\n",
        "    - Jupyter Kernel\n",
        "        - Nteract\n",
        "        - Hydrogen\n",
        "    \n",
        "### Technology Whirlwind\n",
        "\n",
        "    - Pandas Dataframe\n",
        "    - Plotly graphing library\n",
        "\n",
        "    \n",
        "### Python Libraries\n",
        "    \n",
        "    - Pandas\n",
        "    - Plotly\n",
        "    \n",
        "### Outputs\n",
        "\n",
        "    - Graphs: offline vs online\n",
        "    - Dashboards\n",
        "        - Embedding\n",
        "        - Websites\n",
        "    - Presentations\n",
        "    - Notebooks\n"
      ],
      "metadata": {}
    },
    {
      "cell_type": "markdown",
      "source": [
        "## Pandas\n",
        "[Pandas Documentation](http://pandas.pydata.org/pandas-docs/stable/)\n",
        "\n",
        "> pandas is a Python package providing fast, flexible, and expressive data structures designed to make working with “relational” or “labeled” data both easy and intuitive. It aims to be the fundamental high-level building block for doing practical, real world data analysis in Python.\n",
        "\n",
        "Get pandas by \" `pip install pandas` \"\n",
        "\n",
        "Add to program thru standard \" `import pandas as pd` \"\n",
        "\n\n\n"
      ],
      "metadata": {}
    },
    {
      "cell_type": "code",
      "source": [
        "import pandas as pd\n",
        "\n",
        "pd.__version__ # Retrieve the pandas version\n",
        "\npd.show_versions() # Show all releevant python and os related information"
      ],
      "outputs": [
        {
          "output_type": "stream",
          "name": "stdout",
          "text": [
            "\n",
            "INSTALLED VERSIONS\n",
            "------------------\n",
            "commit: None\n",
            "python: 3.6.0.final.0\n",
            "python-bits: 64\n",
            "OS: Darwin\n",
            "OS-release: 16.5.0\n",
            "machine: x86_64\n",
            "processor: i386\n",
            "byteorder: little\n",
            "LC_ALL: None\n",
            "LANG: None\n",
            "LOCALE: None.None\n",
            "\n",
            "pandas: 0.20.1\n",
            "pytest: None\n",
            "pip: 9.0.1\n",
            "setuptools: 32.2.0\n",
            "Cython: None\n",
            "numpy: 1.12.1\n",
            "scipy: None\n",
            "xarray: None\n",
            "IPython: 5.2.1\n",
            "sphinx: None\n",
            "patsy: None\n",
            "dateutil: 2.6.0\n",
            "pytz: 2017.2\n",
            "blosc: None\n",
            "bottleneck: None\n",
            "tables: None\n",
            "numexpr: None\n",
            "feather: None\n",
            "matplotlib: None\n",
            "openpyxl: None\n",
            "xlrd: None\n",
            "xlwt: None\n",
            "xlsxwriter: None\n",
            "lxml: None\n",
            "bs4: None\n",
            "html5lib: 0.9999999\n",
            "sqlalchemy: None\n",
            "pymysql: None\n",
            "psycopg2: None\n",
            "jinja2: 2.9.5\n",
            "s3fs: None\n",
            "pandas_gbq: None\n",
            "pandas_datareader: None\n"
          ]
        }
      ],
      "execution_count": 5,
      "metadata": {
        "collapsed": false,
        "outputHidden": false,
        "inputHidden": false
      }
    },
    {
      "cell_type": "markdown",
      "source": [
        "## Adding Data to Pandas\n",
        "\n",
        "pandas support a variety of read and write formats.\n",
        "\n"
      ],
      "metadata": {}
    },
    {
      "cell_type": "code",
      "source": [
        "formats_df = pd.read_csv('pandas_read_formats.csv')\n",
        "print(formats_df)"
      ],
      "outputs": [
        {
          "output_type": "stream",
          "name": "stdout",
          "text": [
            "   Format Type      Data Description          Reader        Writer\n",
            "0         text                   CSV        read_csv        to_csv\n",
            "1         text                  JSON       read_json       to_json\n",
            "2         text                  HTML       read_html       to_html\n",
            "3         text       Local clipboard  read_clipboard  to_clipboard\n",
            "4       binary              MS Excel      read_excel      to_excel\n",
            "5       binary           HDF5 Format        read_hdf        to_hdf\n",
            "6       binary        Feather Format    read_feather    to_feather\n",
            "7       binary               Msgpack    read_msgpack    to_msgpack\n",
            "8       binary                 Stata      read_stata      to_stata\n",
            "9       binary                   SAS        read_sas           NaN\n",
            "10      binary  Python Pickle Format     read_pickle     to_pickle\n",
            "11         SQL                   SQL        read_sql        to_sql\n",
            "12         SQL      Google Big Query        read_gbq        to_gbq\n"
          ]
        }
      ],
      "execution_count": 7,
      "metadata": {
        "collapsed": false,
        "outputHidden": false,
        "inputHidden": false
      }
    },
    {
      "cell_type": "markdown",
      "source": [
        "For this class we will only use a couple.\n",
        "\n",
        "   pandas can also read from a variety of locations. For the purposes of this class we will cocentrate on local files and files from the web that are in a known format. \n",
        "\n",
        "   In the code above \"` formats = pd.read_csv('pandas_read_formats.csv')`\" we are reading in the file \"pandas_read_formats.csv\" and assigning the returned values from the read to the variable `formats_df`.\n",
        "\n   We can just as easily read from the web. I've stored the same file in my [GitHub repo for this workshop](https://github.com/teneyck/Threat_Hunting_Viz). We can use the same code to retrieve the file from there. By modifying the value passed to the `read_csv` method."
      ],
      "metadata": {}
    },
    {
      "cell_type": "code",
      "source": [
        "formats_df = pd.read_csv('https://raw.githubusercontent.com/teneyck/Threat_Hunting_Viz/master/pandas_read_formats.csv')\n",
        "print(formats_df)"
      ],
      "outputs": [
        {
          "output_type": "stream",
          "name": "stdout",
          "text": [
            "   Format Type      Data Description          Reader        Writer\n",
            "0         text                   CSV        read_csv        to_csv\n",
            "1         text                  JSON       read_json       to_json\n",
            "2         text                  HTML       read_html       to_html\n",
            "3         text       Local clipboard  read_clipboard  to_clipboard\n",
            "4       binary              MS Excel      read_excel      to_excel\n",
            "5       binary           HDF5 Format        read_hdf        to_hdf\n",
            "6       binary        Feather Format    read_feather    to_feather\n",
            "7       binary               Msgpack    read_msgpack    to_msgpack\n",
            "8       binary                 Stata      read_stata      to_stata\n",
            "9       binary                   SAS        read_sas           NaN\n",
            "10      binary  Python Pickle Format     read_pickle     to_pickle\n",
            "11         SQL                   SQL        read_sql        to_sql\n",
            "12         SQL      Google Big Query        read_gbq        to_gbq\n"
          ]
        }
      ],
      "execution_count": 9,
      "metadata": {
        "collapsed": false,
        "outputHidden": false,
        "inputHidden": false
      }
    },
    {
      "cell_type": "markdown",
      "source": [
        "In the same manner we can read from json, or any of the other fomats."
      ],
      "metadata": {}
    },
    {
      "cell_type": "code",
      "source": [
        "formats_json_df = pd.read_json('https://raw.githubusercontent.com/teneyck/Threat_Hunting_Viz/master/pandas_read_formats.json')\n",
        "print(formats_json_df) #TODO fix this."
      ],
      "outputs": [
        {
          "output_type": "stream",
          "name": "stdout",
          "text": [
            "        Data Description Format Type          Reader        Writer\n",
            "0                    CSV        text        read_csv        to_csv\n",
            "1                   JSON        text       read_json       to_json\n",
            "10  Python Pickle Format      binary     read_pickle     to_pickle\n",
            "11                   SQL         SQL        read_sql        to_sql\n",
            "12      Google Big Query         SQL        read_gbq        to_gbq\n",
            "2                   HTML        text       read_html       to_html\n",
            "3        Local clipboard        text  read_clipboard  to_clipboard\n",
            "4               MS Excel      binary      read_excel      to_excel\n",
            "5            HDF5 Format      binary        read_hdf        to_hdf\n",
            "6         Feather Format      binary    read_feather    to_feather\n",
            "7                Msgpack      binary    read_msgpack    to_msgpack\n",
            "8                  Stata      binary      read_stata      to_stata\n",
            "9                    SAS      binary        read_sas          None\n"
          ]
        }
      ],
      "execution_count": 11,
      "metadata": {
        "collapsed": false,
        "outputHidden": false,
        "inputHidden": false
      }
    },
    {
      "cell_type": "markdown",
      "source": [
        "## Data is in but now what\n",
        "\n",
        " Once we have the data we can now look at it and try to find meaningful corolaries. We can manipulate the data in ways simliar to any other spreadsheet or application.\n",
        " \n",
        " We can look at the index of the data frame."
      ],
      "metadata": {}
    },
    {
      "cell_type": "code",
      "source": [
        "print(formats_json_df.index)"
      ],
      "outputs": [
        {
          "output_type": "stream",
          "name": "stdout",
          "text": [
            "Int64Index([0, 1, 10, 11, 12, 2, 3, 4, 5, 6, 7, 8, 9], dtype='int64')\n"
          ]
        }
      ],
      "execution_count": 12,
      "metadata": {
        "collapsed": false,
        "outputHidden": false,
        "inputHidden": false
      }
    },
    {
      "cell_type": "markdown",
      "source": [
        "We can look at the column names."
      ],
      "metadata": {}
    },
    {
      "cell_type": "code",
      "source": [
        "print(formats_json_df.columns)"
      ],
      "outputs": [
        {
          "output_type": "stream",
          "name": "stdout",
          "text": [
            "Index(['Data Description', 'Format Type', 'Reader', 'Writer'], dtype='object')\n"
          ]
        }
      ],
      "execution_count": 13,
      "metadata": {
        "collapsed": false,
        "outputHidden": false,
        "inputHidden": false
      }
    },
    {
      "cell_type": "markdown",
      "source": [
        "We can look at the values."
      ],
      "metadata": {}
    },
    {
      "cell_type": "code",
      "source": [
        "print(formats_json_df.values)"
      ],
      "outputs": [
        {
          "output_type": "stream",
          "name": "stdout",
          "text": [
            "[['CSV' 'text' 'read_csv' 'to_csv']\n",
            " ['JSON' 'text' 'read_json' 'to_json']\n",
            " ['Python Pickle Format' 'binary' 'read_pickle' 'to_pickle']\n",
            " ['SQL' 'SQL' 'read_sql' 'to_sql']\n",
            " ['Google Big Query' 'SQL' 'read_gbq' 'to_gbq']\n",
            " ['HTML' 'text' 'read_html' 'to_html']\n",
            " ['Local clipboard' 'text' 'read_clipboard' 'to_clipboard']\n",
            " ['MS Excel' 'binary' 'read_excel' 'to_excel']\n",
            " ['HDF5 Format' 'binary' 'read_hdf' 'to_hdf']\n",
            " ['Feather Format' 'binary' 'read_feather' 'to_feather']\n",
            " ['Msgpack' 'binary' 'read_msgpack' 'to_msgpack']\n",
            " ['Stata' 'binary' 'read_stata' 'to_stata']\n",
            " ['SAS' 'binary' 'read_sas' None]]\n"
          ]
        }
      ],
      "execution_count": 14,
      "metadata": {
        "collapsed": false,
        "outputHidden": false,
        "inputHidden": false
      }
    },
    {
      "cell_type": "markdown",
      "source": [
        "We also can look at idividual lines using python slice notation."
      ],
      "metadata": {}
    },
    {
      "cell_type": "code",
      "source": [
        "formats_json_df[1:2]"
      ],
      "outputs": [
        {
          "output_type": "execute_result",
          "execution_count": 30,
          "data": {
            "text/plain": [
              "  Data Description Format Type     Reader   Writer\n",
              "1             JSON        text  read_json  to_json"
            ],
            "text/html": [
              "<div>\n",
              "<style>\n",
              "    .dataframe thead tr:only-child th {\n",
              "        text-align: right;\n",
              "    }\n",
              "\n",
              "    .dataframe thead th {\n",
              "        text-align: left;\n",
              "    }\n",
              "\n",
              "    .dataframe tbody tr th {\n",
              "        vertical-align: top;\n",
              "    }\n",
              "</style>\n",
              "<table border=\"1\" class=\"dataframe\">\n",
              "  <thead>\n",
              "    <tr style=\"text-align: right;\">\n",
              "      <th></th>\n",
              "      <th>Data Description</th>\n",
              "      <th>Format Type</th>\n",
              "      <th>Reader</th>\n",
              "      <th>Writer</th>\n",
              "    </tr>\n",
              "  </thead>\n",
              "  <tbody>\n",
              "    <tr>\n",
              "      <th>1</th>\n",
              "      <td>JSON</td>\n",
              "      <td>text</td>\n",
              "      <td>read_json</td>\n",
              "      <td>to_json</td>\n",
              "    </tr>\n",
              "  </tbody>\n",
              "</table>\n",
              "</div>"
            ]
          },
          "metadata": {}
        }
      ],
      "execution_count": 30,
      "metadata": {
        "collapsed": false,
        "outputHidden": false,
        "inputHidden": false
      }
    },
    {
      "cell_type": "markdown",
      "source": [
        "We can also extract a single cell."
      ],
      "metadata": {}
    },
    {
      "cell_type": "code",
      "source": [
        "formats_json_df.iloc[1]['Reader']"
      ],
      "outputs": [
        {
          "output_type": "execute_result",
          "execution_count": 32,
          "data": {
            "text/plain": [
              "'read_json'"
            ]
          },
          "metadata": {}
        }
      ],
      "execution_count": 32,
      "metadata": {
        "collapsed": false,
        "outputHidden": false,
        "inputHidden": false
      }
    },
    {
      "cell_type": "markdown",
      "source": [
        "We can also extract based on boolean operations."
      ],
      "metadata": {}
    },
    {
      "cell_type": "code",
      "source": [
        "formats_json_df.loc[formats_json_df['Format Type'] == 'text']"
      ],
      "outputs": [
        {
          "output_type": "execute_result",
          "execution_count": 35,
          "data": {
            "text/plain": [
              "  Data Description Format Type          Reader        Writer\n",
              "0              CSV        text        read_csv        to_csv\n",
              "1             JSON        text       read_json       to_json\n",
              "2             HTML        text       read_html       to_html\n",
              "3  Local clipboard        text  read_clipboard  to_clipboard"
            ],
            "text/html": [
              "<div>\n",
              "<style>\n",
              "    .dataframe thead tr:only-child th {\n",
              "        text-align: right;\n",
              "    }\n",
              "\n",
              "    .dataframe thead th {\n",
              "        text-align: left;\n",
              "    }\n",
              "\n",
              "    .dataframe tbody tr th {\n",
              "        vertical-align: top;\n",
              "    }\n",
              "</style>\n",
              "<table border=\"1\" class=\"dataframe\">\n",
              "  <thead>\n",
              "    <tr style=\"text-align: right;\">\n",
              "      <th></th>\n",
              "      <th>Data Description</th>\n",
              "      <th>Format Type</th>\n",
              "      <th>Reader</th>\n",
              "      <th>Writer</th>\n",
              "    </tr>\n",
              "  </thead>\n",
              "  <tbody>\n",
              "    <tr>\n",
              "      <th>0</th>\n",
              "      <td>CSV</td>\n",
              "      <td>text</td>\n",
              "      <td>read_csv</td>\n",
              "      <td>to_csv</td>\n",
              "    </tr>\n",
              "    <tr>\n",
              "      <th>1</th>\n",
              "      <td>JSON</td>\n",
              "      <td>text</td>\n",
              "      <td>read_json</td>\n",
              "      <td>to_json</td>\n",
              "    </tr>\n",
              "    <tr>\n",
              "      <th>2</th>\n",
              "      <td>HTML</td>\n",
              "      <td>text</td>\n",
              "      <td>read_html</td>\n",
              "      <td>to_html</td>\n",
              "    </tr>\n",
              "    <tr>\n",
              "      <th>3</th>\n",
              "      <td>Local clipboard</td>\n",
              "      <td>text</td>\n",
              "      <td>read_clipboard</td>\n",
              "      <td>to_clipboard</td>\n",
              "    </tr>\n",
              "  </tbody>\n",
              "</table>\n",
              "</div>"
            ]
          },
          "metadata": {}
        }
      ],
      "execution_count": 35,
      "metadata": {
        "collapsed": false,
        "outputHidden": false,
        "inputHidden": false
      }
    },
    {
      "cell_type": "code",
      "source": [],
      "outputs": [],
      "execution_count": null,
      "metadata": {
        "collapsed": false,
        "outputHidden": false,
        "inputHidden": false
      }
    }
  ],
  "metadata": {
    "kernelspec": {
      "name": "python3",
      "language": "python",
      "display_name": "Python 3"
    },
    "kernel_info": {
      "name": "python3"
    },
    "language_info": {
      "name": "python",
      "version": "3.6.0",
      "mimetype": "text/x-python",
      "codemirror_mode": {
        "name": "ipython",
        "version": 3
      },
      "pygments_lexer": "ipython3",
      "nbconvert_exporter": "python",
      "file_extension": ".py"
    }
  },
  "nbformat": 4,
  "nbformat_minor": 4
}