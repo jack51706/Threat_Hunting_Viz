{
  "cells": [
    {
      "cell_type": "markdown",
      "source": [
        "## Table of Contents\n",
        "\n",
        "### Introductions\n",
        "\n",
        "#### Instructors:\n",
        "    - Joseph Joseph.TenEyck@Target.com\n",
        "    - Fred  John.Fredrickson@Target.com\n",
        "    \n",
        "### Development environments\n",
        "\n",
        "    - Python( 2 or 3 your choice)\n",
        "    - Jupyter Kernel\n",
        "        - Nteract\n",
        "        - Hydrogen\n",
        "    \n",
        "### Technology Whirlwind\n",
        "\n",
        "    - Pandas Dataframe\n",
        "    - Plotly graphing library\n",
        "\n",
        "    \n",
        "### Python Libraries\n",
        "    \n",
        "    - Pandas\n",
        "    - Plotly\n",
        "    \n",
        "### Outputs\n",
        "\n",
        "    - Graphs: offline vs online\n",
        "    - Dashboards\n",
        "        - Embedding\n",
        "        - Websites\n",
        "    - Presentations\n",
        "    - Notebooks"
      ],
      "metadata": {}
    },
    {
      "cell_type": "markdown",
      "source": [
        "# Plotly\n",
        "\n",
        "We will start with some general information on plotly.\n",
        "\n",
        ">Plotly's Python graphing library makes interactive, publication-quality graphs online. Examples of how to make line plots, scatter plots, area charts, bar charts, error bars, box plots, histograms, heatmaps, subplots, multiple-axes, polar charts, and bubble charts.\n",
        "\n",
        "It produces fully functional, scalable \n",
        "\n"
      ],
      "metadata": {}
    },
    {
      "cell_type": "code",
      "source": [
        "gdp_df = pd.read_csv(\"gapminder_unfiltered.csv\")\n",
        "df.head()"
      ],
      "outputs": [],
      "execution_count": 14,
      "metadata": {
        "collapsed": false
      }
    },
    {
      "cell_type": "code",
      "source": [
        "data = [\n",
        "  {'x': [1999, 2000, 2001, 2002], 'y': [10, 15, 13, 17], 'type': 'scatter'},\n",
        "  {'x': [1999, 2000, 2001, 2002], 'y': [16, 5, 11, 9], 'type': 'scatter'}\n",
        "]\n",
        "\n",
        "layout = {\n",
        "  'title': 'Sales Growth',\n",
        "  'xaxis': { 'title': 'Year', 'showgrid': False, 'zeroline': False },\n",
        "  'yaxis': { 'title': 'Percent', 'showline': False }\n",
        "}"
      ],
      "outputs": [],
      "execution_count": 15,
      "metadata": {
        "collapsed": false
      }
    },
    {
      "cell_type": "code",
      "source": [
        "plotize(data, layout)"
      ],
      "outputs": [],
      "execution_count": 16,
      "metadata": {
        "collapsed": false
      }
    },
    {
      "cell_type": "code",
      "source": [
        "import plotly.graph_objs as go\n",
        "\n",
        "# Create random data with numpy\n",
        "import numpy as np\n",
        "\n",
        "N = 1000\n",
        "random_x = np.random.randn(N)\n",
        "random_y = np.random.randn(N)\n",
        "\n",
        "# Create a trace\n",
        "trace = go.Scatter(\n",
        "    x = random_x,\n",
        "    y = random_y,\n",
        "    mode = 'markers'\n",
        ")\n",
        "\ndata = [trace]"
      ],
      "outputs": [],
      "execution_count": 17,
      "metadata": {
        "collapsed": false
      }
    },
    {
      "cell_type": "code",
      "source": [
        "plotize(data)"
      ],
      "outputs": [],
      "execution_count": 18,
      "metadata": {
        "collapsed": false
      }
    },
    {
      "cell_type": "code",
      "source": [
        "trace0 = go.Scatter(\n",
        "    x=[1, 2, 3, 4],\n",
        "    y=[10, 11, 12, 13],\n",
        "    mode='markers',\n",
        "    marker=dict(\n",
        "        size=[40, 60, 80, 100],\n",
        "    )\n",
        ")\n",
        "\ndata = [trace0]"
      ],
      "outputs": [],
      "execution_count": 19,
      "metadata": {
        "collapsed": false
      }
    },
    {
      "cell_type": "code",
      "source": [
        "plotize(data)"
      ],
      "outputs": [],
      "execution_count": 20,
      "metadata": {
        "collapsed": false
      }
    },
    {
      "cell_type": "code",
      "source": [
        "trace0 = go.Scatter(\n",
        "    x=[1, 2, 3, 4],\n",
        "    y=[10, 11, 12, 13],\n",
        "    mode='markers',\n",
        "    marker=dict(\n",
        "        color=['rgb(93, 164, 214)', 'rgb(255, 144, 14)',\n",
        "               'rgb(44, 160, 101)', 'rgb(255, 65, 54)'],\n",
        "        opacity=[1, 0.8, 0.6, 0.4],\n",
        "        size=[40, 60, 80, 100],\n",
        "    )\n",
        ")\n",
        "\nplotize([trace0])"
      ],
      "outputs": [],
      "execution_count": 21,
      "metadata": {
        "collapsed": false
      }
    },
    {
      "cell_type": "code",
      "source": [
        "import plotly.plotly as py\n",
        "import plotly.graph_objs as go\n",
        "\n",
        "import pandas as pd\n",
        "import math\n",
        "\n",
        "data = pd.read_csv(\"https://raw.githubusercontent.com/plotly/datasets/master/gapminderDataFiveYear.csv\")\n",
        "df_2007 = data[data['year']==2007]\n",
        "df_2007 = df_2007.sort_values(['continent', 'country'])\n",
        "slope = 2.666051223553066e-05\n",
        "hover_text = []\n",
        "bubble_size = []\n",
        "\n",
        "for index, row in df_2007.iterrows():\n",
        "    hover_text.append(('Country: {country}<br>'+\n",
        "                      'Life Expectancy: {lifeExp}<br>'+\n",
        "                      'GDP per capita: {gdp}<br>'+\n",
        "                      'Population: {pop}<br>'+\n",
        "                      'Year: {year}').format(country=row['country'],\n",
        "                                            lifeExp=row['lifeExp'],\n",
        "                                            gdp=row['gdpPercap'],\n",
        "                                            pop=row['pop'],\n",
        "                                            year=row['year']))\n",
        "    bubble_size.append(math.sqrt(row['pop']*slope))\n",
        "    \n",
        "df_2007['text'] = hover_text\n",
        "df_2007['size'] = bubble_size\n",
        "\n",
        "trace0 = go.Scatter(\n",
        "    x=df_2007['gdpPercap'][df_2007['continent'] == 'Africa'],\n",
        "    y=df_2007['lifeExp'][df_2007['continent'] == 'Africa'],\n",
        "    mode='markers',\n",
        "    name='Africa',\n",
        "    text=df_2007['text'][df_2007['continent'] == 'Africa'],\n",
        "    marker=dict(\n",
        "        symbol='circle',\n",
        "        sizemode='diameter',\n",
        "        sizeref=0.85,\n",
        "        size=df_2007['size'][df_2007['continent'] == 'Africa'],\n",
        "        line=dict(\n",
        "            width=2\n",
        "        ),\n",
        "    )\n",
        ")\n",
        "trace1 = go.Scatter(\n",
        "    x=df_2007['gdpPercap'][df_2007['continent'] == 'Americas'],\n",
        "    y=df_2007['lifeExp'][df_2007['continent'] == 'Americas'],\n",
        "    mode='markers',\n",
        "    name='Americas',\n",
        "    text=df_2007['text'][df_2007['continent'] == 'Americas'],\n",
        "    marker=dict(\n",
        "        sizemode='diameter',\n",
        "        sizeref=0.85,\n",
        "        size=df_2007['size'][df_2007['continent'] == 'Americas'],\n",
        "        line=dict(\n",
        "            width=2\n",
        "        ),\n",
        "    )\n",
        ")\n",
        "trace2 = go.Scatter(\n",
        "    x=df_2007['gdpPercap'][df_2007['continent'] == 'Asia'],\n",
        "    y=df_2007['lifeExp'][df_2007['continent'] == 'Asia'],\n",
        "    mode='markers',\n",
        "    name='Asia',\n",
        "    text=df_2007['text'][df_2007['continent'] == 'Asia'],\n",
        "    marker=dict(\n",
        "        sizemode='diameter',\n",
        "        sizeref=0.85,\n",
        "        size=df_2007['size'][df_2007['continent'] == 'Asia'],\n",
        "        line=dict(\n",
        "            width=2\n",
        "        ),\n",
        "    )\n",
        ")\n",
        "trace3 = go.Scatter(\n",
        "    x=df_2007['gdpPercap'][df_2007['continent'] == 'Europe'],\n",
        "    y=df_2007['lifeExp'][df_2007['continent'] == 'Europe'],\n",
        "    mode='markers',\n",
        "    name='Europe',\n",
        "    text=df_2007['text'][df_2007['continent'] == 'Europe'],\n",
        "    marker=dict(\n",
        "        sizemode='diameter',\n",
        "        sizeref=0.85,\n",
        "        size=df_2007['size'][df_2007['continent'] == 'Europe'],\n",
        "        line=dict(\n",
        "            width=2\n",
        "        ),\n",
        "    )\n",
        ")\n",
        "trace4 = go.Scatter(\n",
        "    x=df_2007['gdpPercap'][df_2007['continent'] == 'Oceania'],\n",
        "    y=df_2007['lifeExp'][df_2007['continent'] == 'Oceania'],\n",
        "    mode='markers',\n",
        "    name='Oceania',\n",
        "    text=df_2007['text'][df_2007['continent'] == 'Oceania'],\n",
        "    marker=dict(\n",
        "        sizemode='diameter',\n",
        "        sizeref=0.85,\n",
        "        size=df_2007['size'][df_2007['continent'] == 'Oceania'],\n",
        "        line=dict(\n",
        "            width=2\n",
        "        ),\n",
        "    )\n",
        ")\n",
        "\n",
        "data = [trace0, trace1, trace2, trace3, trace4]\n",
        "layout = go.Layout(\n",
        "    title='Life Expectancy v. Per Capita GDP, 2007',\n",
        "    xaxis=dict(\n",
        "        title='GDP per capita (2000 dollars)',\n",
        "        gridcolor='rgb(255, 255, 255)',\n",
        "        range=[2.003297660701705, 5.191505530708712],\n",
        "        type='log',\n",
        "        zerolinewidth=1,\n",
        "        ticklen=5,\n",
        "        gridwidth=2,\n",
        "    ),\n",
        "    yaxis=dict(\n",
        "        title='Life Expectancy (years)',\n",
        "        gridcolor='rgb(255, 255, 255)',\n",
        "        range=[36.12621671352166, 91.72921793264332],\n",
        "        zerolinewidth=1,\n",
        "        ticklen=5,\n",
        "        gridwidth=2,\n",
        "    ),\n",
        "    paper_bgcolor='rgb(243, 243, 243)',\n",
        "    plot_bgcolor='rgb(243, 243, 243)',\n",
        ")\n",
        "\n",
        "fig = go.Figure(data=data, layout=layout)\n",
        "fig.layout.height = 1000\n",
        "plotize(fig.data, fig.layout)"
      ],
      "outputs": [],
      "execution_count": 22,
      "metadata": {
        "collapsed": false
      }
    },
    {
      "cell_type": "code",
      "source": [
        "df = pd.read_csv(\"gapminder_unfiltered.csv\")\n",
        "df.head()"
      ],
      "outputs": [],
      "execution_count": 27,
      "metadata": {
        "collapsed": false
      }
    },
    {
      "cell_type": "code",
      "source": [
        "data = [{'x': [1, 2], 'y': [3, 1]}]\n",
        "layout = {'height': 1600}"
      ],
      "outputs": [],
      "execution_count": 24,
      "metadata": {
        "collapsed": false
      }
    }
  ],
  "metadata": {
    "kernel_info": {
      "name": "python3"
    },
    "kernelspec": {
      "name": "python3",
      "language": "python",
      "display_name": "Python 3"
    },
    "language_info": {
      "name": "python",
      "version": "3.6.0",
      "mimetype": "text/x-python",
      "codemirror_mode": {
        "name": "ipython",
        "version": 3
      },
      "pygments_lexer": "ipython3",
      "nbconvert_exporter": "python",
      "file_extension": ".py"
    }
  },
  "nbformat": 4,
  "nbformat_minor": 0
}